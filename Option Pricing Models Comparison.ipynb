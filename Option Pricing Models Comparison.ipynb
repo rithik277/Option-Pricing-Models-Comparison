{
 "cells": [
  {
   "cell_type": "code",
   "execution_count": 1,
   "id": "6ba9eaee-2811-4367-95c0-d9c43747c971",
   "metadata": {},
   "outputs": [],
   "source": [
    "import numpy as np\n",
    "import math\n",
    "from scipy.stats import norm "
   ]
  },
  {
   "cell_type": "code",
   "execution_count": 2,
   "id": "b251f48b-e062-48e1-a6c6-ae8b78b0b681",
   "metadata": {},
   "outputs": [
    {
     "name": "stdout",
     "output_type": "stream",
     "text": [
      "Binomial Call Option Price: 8.32\n",
      "Binomial Put Option Price: 0.80\n"
     ]
    }
   ],
   "source": [
    "# Binomial Tree parameters\n",
    "\n",
    "S = 45         # Current stock price\n",
    "K = 40         # Option strike price\n",
    "T = 1.0        # Time to expiration in years\n",
    "r = 0.065      # Risk-free interest rate\n",
    "sigma = 0.2    # Volatility of the underlying stock\n",
    "n = 1000\n",
    "\n",
    "def binomial_option_price (S, K, T, r, vol, option_type='call', steps=1000):\n",
    "   \n",
    "    dt = T / n\n",
    "    u = math.exp(sigma * math.sqrt(dt))\n",
    "    d = 1 / u\n",
    "    p = (math.exp(r * dt) - d) / (u - d)\n",
    "\n",
    "    option_prices = [[0 for _ in range(n + 1)] for _ in range(n + 1)]\n",
    "\n",
    "    # Calculate option prices at expiration\n",
    "    for j in range(n + 1):\n",
    "        if option_type == 'call':\n",
    "            option_prices[n][j] = max(0, S * (u**j) * (d**(n - j)) - K)\n",
    "        elif option_type == 'put':\n",
    "            option_prices[n][j] = max(0, K - S * (u**j) * (d**(n - j)))\n",
    "\n",
    "    # Calculate option prices at earlier time steps\n",
    "    for i in range(n - 1, -1, -1):\n",
    "        for j in range(i + 1):\n",
    "            if option_type == 'call':\n",
    "                option_prices[i][j] = max(0, math.exp(-r * dt) * (p * option_prices[i + 1][j + 1] + (1 - p) * option_prices[i + 1][j]))\n",
    "            elif option_type == 'put':\n",
    "                option_prices[i][j] = max(0, math.exp(-r * dt) * (p * option_prices[i + 1][j + 1] + (1 - p) * option_prices[i + 1][j]))\n",
    "\n",
    "    return option_prices[0][0]\n",
    "\n",
    "\n",
    "\n",
    "call_price = binomial_option_price(S, K, T, r, sigma, option_type='call')\n",
    "put_price = binomial_option_price(S, K, T, r, sigma, option_type='put')\n",
    "\n",
    "\n",
    "print(f\"Binomial Call Option Price: {call_price:.2f}\")\n",
    "print(f\"Binomial Put Option Price: {put_price:.2f}\")"
   ]
  },
  {
   "cell_type": "code",
   "execution_count": 3,
   "id": "9313ffee-bf9c-407e-8290-caa4fbba30dd",
   "metadata": {},
   "outputs": [
    {
     "name": "stdout",
     "output_type": "stream",
     "text": [
      "Heston Call Option Price: $9.87\n",
      "Heston Put Option Price: $2.56\n"
     ]
    }
   ],
   "source": [
    "#Heston Model using Euler-Maruyama scheme & Monte Carlo to calculate option prices\n",
    "\n",
    "# Parameters\n",
    "S0 = 45.0       # Initial stock price\n",
    "K = 40.0        #Strick Price\n",
    "V0 = 0.2       # Initial volatility\n",
    "r = 0.065        # Risk-free rate\n",
    "kappa = 2.0     # Mean reversion speed\n",
    "theta = 0.04    # Long-term average volatility\n",
    "sigma = 0.1     # Volatility of volatility\n",
    "rho = -0.7      # Correlation between asset price and volatility\n",
    "T = 1.0         # Time to maturity\n",
    "N = 252         # Number of time steps per year\n",
    "M = 1000       # Number of paths\n",
    "\n",
    "# Function to generate paths using Euler-Maruyama scheme\n",
    "def heston_mc(S0, V0, r, kappa, theta, sigma, rho, T, N, M):\n",
    "    dt = T / N\n",
    "    sqrt_dt = np.sqrt(dt)\n",
    "    sqrt_V = np.sqrt(V0)\n",
    "    \n",
    "    # Initialize arrays for stock prices and volatilities\n",
    "    S = np.zeros((M, N+1))\n",
    "    S[:, 0] = S0\n",
    "    V = np.zeros((M, N+1))\n",
    "    V[:, 0] = V0\n",
    "    \n",
    "    # Generate random variables\n",
    "    Z_S = np.random.normal(size=(M, N))\n",
    "    Z_V = rho * Z_S + np.sqrt(1 - rho**2) * np.random.normal(size=(M, N))\n",
    "    \n",
    "    for t in range(1, N+1):\n",
    "        # Stock price simulation (exact solution for Heston model)\n",
    "        S[:, t] = S[:, t-1] * np.exp((r - 0.5 * V[:, t-1]) * dt + np.sqrt(V[:, t-1] * dt) * Z_S[:, t-1])\n",
    "        \n",
    "        # Volatility simulation (exact solution for Heston model)\n",
    "        V[:, t] = V[:, t-1] + kappa * (theta - V[:, t-1]) * dt + sigma * np.sqrt(V[:, t-1] * dt) * Z_V[:, t-1]\n",
    "        V[:, t] = np.maximum(V[:, t], 0)  # Take care of negative volatilities\n",
    "    \n",
    "    return S, V\n",
    "\n",
    "# Generate paths\n",
    "np.random.seed(42)  # for reproducibility\n",
    "S, V = heston_mc(S0, V0, r, kappa, theta, sigma, rho, T, N, M)\n",
    "\n",
    "# Calculate option prices using Monte Carlo simulation\n",
    "K = 40.0  # Strike price\n",
    "discount_factor = np.exp(-r * T)\n",
    "ST = S[:, -1]  # Terminal stock price\n",
    "\n",
    "# Calculate call option price\n",
    "call_payoff = np.maximum(ST - K, 0)\n",
    "call_price = discount_factor * np.mean(call_payoff)\n",
    "\n",
    "# Calculate put option price\n",
    "put_payoff = np.maximum(K - ST, 0)\n",
    "put_price = discount_factor * np.mean(put_payoff)\n",
    "\n",
    "print(f\"Heston Call Option Price: ${call_price:.2f}\")\n",
    "print(f\"Heston Put Option Price: ${put_price:.2f}\")"
   ]
  },
  {
   "cell_type": "code",
   "execution_count": 15,
   "id": "bde636c5-2353-4181-985f-886cdfc1bf24",
   "metadata": {},
   "outputs": [
    {
     "name": "stdout",
     "output_type": "stream",
     "text": [
      " The Value of d1 is:  1.0139\n",
      " The Value of d2 is:  0.8139\n",
      "Black Scholes Call Option is: $ 8.32\n",
      "Black Schloes Put Option is: $ 0.8\n"
     ]
    }
   ],
   "source": [
    "#Black Scholes Model \n",
    "\n",
    "#Parametres\n",
    "\n",
    "S = 45.0      # Spot Price \n",
    "K = 40.0      # Strike Price \n",
    "T = 1.0    # Time of expiration \n",
    "r = 0.065   # Risk Free rate \n",
    "vol = 0.2   # Volatility \n",
    "\n",
    "#Calculating D1 \n",
    "\n",
    "d1 = (math.log(S/K) +( r + 0.5*vol**2)*T) / (vol*math.sqrt(T))\n",
    "\n",
    "#Calculating D2 \n",
    "\n",
    "d2 = d1 - (vol*math.sqrt(T))\n",
    "\n",
    "#Calculating Call Option Price \n",
    "\n",
    "C = S * norm.cdf(d1) - K * math.exp(-r * T) * norm.cdf(d2)\n",
    "\n",
    "#Calculating Put Option \n",
    "\n",
    "P = K * math.exp(-r * T) * norm.cdf (-d2) - S * norm.cdf(-d1) \n",
    "\n",
    "\n",
    "print(' The Value of d1 is: ',  round(d1, 4 )) \n",
    "print(' The Value of d2 is: ',  round(d2, 4 ))\n",
    "print('Black Scholes Call Option is: $', round(C, 2)) \n",
    "print('Black Schloes Put Option is: $', round(P, 2)) "
   ]
  },
  {
   "cell_type": "code",
   "execution_count": 16,
   "id": "11c2764e-2ffa-4525-a3f6-405f1c404104",
   "metadata": {},
   "outputs": [
    {
     "name": "stdout",
     "output_type": "stream",
     "text": [
      "Monte Carlo European Call Option Price: $8.48\n",
      "Monte Carlo European Put Option Price: $7.21\n"
     ]
    }
   ],
   "source": [
    "import numpy as np\n",
    "\n",
    "#Monte Carlo \n",
    "\n",
    "# Parameters\n",
    "S0 = 100.0  # Current stock price\n",
    "K = 105.0   # Strike price\n",
    "r = 0.065    # Risk-free rate\n",
    "sigma = 0.2 # Volatility\n",
    "T = 1.0     # Time to expiry (in years)\n",
    "num_simulations = 1000\n",
    "\n",
    "# Simulation function\n",
    "def monte_carlo_option_price(S0, K, r, sigma, T, option_type):\n",
    "    z = np.random.standard_normal(num_simulations)\n",
    "    ST = S0 * np.exp((r - 0.5 * sigma**2) * T + sigma * np.sqrt(T) * z)\n",
    "    \n",
    "    if option_type == 'call':\n",
    "        payoff = np.maximum(ST - K, 0)\n",
    "    elif option_type == 'put':\n",
    "        payoff = np.maximum(K - ST, 0)\n",
    "    \n",
    "    option_price = np.exp(-r * T) * np.mean(payoff)\n",
    "    \n",
    "    return option_price\n",
    "\n",
    "# Calculate option prices\n",
    "call_option_price = monte_carlo_option_price(S0, K, r, sigma, T, 'call')\n",
    "put_option_price = monte_carlo_option_price(S0, K, r, sigma, T, 'put')\n",
    "\n",
    "# Print results\n",
    "print(f\"Monte Carlo European Call Option Price: ${call_option_price:.2f}\")\n",
    "print(f\"Monte Carlo European Put Option Price: ${put_option_price:.2f}\")\n"
   ]
  },
  {
   "cell_type": "code",
   "execution_count": 17,
   "id": "d2af048d-8a39-4a26-a114-460ca0be0f3d",
   "metadata": {},
   "outputs": [
    {
     "name": "stderr",
     "output_type": "stream",
     "text": [
      "[*********************100%%**********************]  1 of 1 completed"
     ]
    },
    {
     "name": "stdout",
     "output_type": "stream",
     "text": [
      "Monte Carlo Call Option Price: $4.35\n",
      "Monte Carlo Put Option Price: $5.39\n"
     ]
    },
    {
     "name": "stderr",
     "output_type": "stream",
     "text": [
      "\n",
      "C:\\Users\\DELL-L7480\\AppData\\Local\\Temp\\ipykernel_1352\\2999481030.py:21: FutureWarning: Series.__getitem__ treating keys as positions is deprecated. In a future version, integer keys will always be treated as labels (consistent with DataFrame behavior). To access a value by position, use `ser.iloc[pos]`\n",
      "  S0 = stock_prices[-1]\n"
     ]
    }
   ],
   "source": [
    "import yfinance as yf\n",
    "\n",
    "# Step 1: Retrieve stock price data for Rivian Automotive (RIVN) for the last 3 months\n",
    "ticker = \"RIVN\"\n",
    "start_date = \"2024-04-01\"\n",
    "end_date = \"2024-07-01\"\n",
    "stock_data = yf.download(ticker, start=start_date, end=end_date)\n",
    "\n",
    "# Extract adjusted closing prices\n",
    "stock_prices = stock_data['Adj Close']\n",
    "\n",
    "# Calculate daily returns\n",
    "daily_returns = stock_prices.pct_change().dropna()\n",
    "\n",
    "# Step 2: Define parameters for Monte Carlo simulation\n",
    "# Number of simulations\n",
    "num_simulations = 1000\n",
    "# Number of trading days\n",
    "num_days = len(daily_returns)\n",
    "# Initial stock price (last adjusted close price)\n",
    "S0 = stock_prices[-1]\n",
    "# Risk-free rate (approximated to 6.5% annually)\n",
    "r = 0.065 / 252\n",
    "# Volatility (annualized standard deviation of daily returns)\n",
    "volatility = daily_returns.std() * np.sqrt(252)\n",
    "\n",
    "# Step 3: Monte Carlo simulation function to estimate option prices\n",
    "def monte_carlo_option_price(S0, K, r, volatility, T, option_type):\n",
    "    # Generate random numbers for stock price simulations\n",
    "    z = np.random.standard_normal(num_simulations)\n",
    "    # Simulate stock price paths using geometric Brownian motion\n",
    "    ST = S0 * np.exp((r - 0.5 * volatility**2) * T + volatility * np.sqrt(T) * z)\n",
    "    \n",
    "    # Calculate option payoffs at maturity\n",
    "    if option_type == 'call':\n",
    "        payoff = np.maximum(ST - K, 0)\n",
    "    elif option_type == 'put':\n",
    "        payoff = np.maximum(K - ST, 0)\n",
    "    \n",
    "    # Discounted expected payoff to present value\n",
    "    option_price = np.exp(-r * T) * np.mean(payoff)\n",
    "    \n",
    "    return option_price\n",
    "\n",
    "# Define parameters for the options\n",
    "strike_price = S0 * 1.1  # Strike price set to 110% of current stock price\n",
    "time_to_expiry = 1  # Time to expiration in years (approximated to 1 year)\n",
    "\n",
    "# Calculate Monte Carlo option prices\n",
    "call_option_price = monte_carlo_option_price(S0, strike_price, r, volatility, time_to_expiry, 'call')\n",
    "put_option_price = monte_carlo_option_price(S0, strike_price, r, volatility, time_to_expiry, 'put')\n",
    "\n",
    "# Print the results\n",
    "print(f\"Monte Carlo Call Option Price: ${call_option_price:.2f}\")\n",
    "print(f\"Monte Carlo Put Option Price: ${put_option_price:.2f}\")\n",
    "\n",
    "#Monte Carlo simulation for option pricing based on historical stock data. \n",
    "#Adjustments may be needed based on specific requirements or additional features desired (e.g., dividend yield consideration, more sophisticated volatility modeling).\n",
    "\n"
   ]
  },
  {
   "cell_type": "code",
   "execution_count": null,
   "id": "de7aa2f5-fc7c-48f6-8eaa-baedf6dcf039",
   "metadata": {},
   "outputs": [],
   "source": []
  },
  {
   "cell_type": "code",
   "execution_count": null,
   "id": "241874fc-b93a-4338-af4d-2f742e16d277",
   "metadata": {},
   "outputs": [],
   "source": []
  },
  {
   "cell_type": "code",
   "execution_count": null,
   "id": "ef83a693-95fb-4a9d-9c1e-0c85132d2fed",
   "metadata": {},
   "outputs": [],
   "source": []
  }
 ],
 "metadata": {
  "kernelspec": {
   "display_name": "Python 3 (ipykernel)",
   "language": "python",
   "name": "python3"
  },
  "language_info": {
   "codemirror_mode": {
    "name": "ipython",
    "version": 3
   },
   "file_extension": ".py",
   "mimetype": "text/x-python",
   "name": "python",
   "nbconvert_exporter": "python",
   "pygments_lexer": "ipython3",
   "version": "3.11.7"
  }
 },
 "nbformat": 4,
 "nbformat_minor": 5
}
